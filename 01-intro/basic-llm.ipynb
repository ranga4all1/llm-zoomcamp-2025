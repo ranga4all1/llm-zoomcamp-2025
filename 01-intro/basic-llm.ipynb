{
 "cells": [
  {
   "cell_type": "code",
   "execution_count": 1,
   "id": "e90f304e-aeae-4f62-92ce-34d86a71707a",
   "metadata": {},
   "outputs": [],
   "source": [
    "import openai"
   ]
  },
  {
   "cell_type": "code",
   "execution_count": 2,
   "id": "8db2c6b3-0f9e-4cbd-aca7-0fec1ddca0b2",
   "metadata": {},
   "outputs": [],
   "source": [
    "from openai import OpenAI"
   ]
  },
  {
   "cell_type": "code",
   "execution_count": 3,
   "id": "1f49d216-980f-4a2a-8e69-efb1b51dd562",
   "metadata": {},
   "outputs": [],
   "source": [
    "client = OpenAI()"
   ]
  },
  {
   "cell_type": "code",
   "execution_count": 4,
   "id": "62c2cde0-548f-4277-8077-698c42424252",
   "metadata": {},
   "outputs": [],
   "source": [
    "import os"
   ]
  },
  {
   "cell_type": "code",
   "execution_count": 5,
   "id": "537b2ca8-3e71-4407-8858-3ac2341e63b5",
   "metadata": {},
   "outputs": [],
   "source": [
    "# os.environ"
   ]
  },
  {
   "cell_type": "code",
   "execution_count": 6,
   "id": "74a2c9d1-7398-405f-936a-8441cc7f1c81",
   "metadata": {},
   "outputs": [
    {
     "data": {
      "text/plain": [
       "ChatCompletion(id='chatcmpl-BiAEYFvXhXPMKLqc4VeCwlpcewB5p', choices=[Choice(finish_reason='stop', index=0, logprobs=None, message=ChatCompletionMessage(content=\"To determine if it's too late to join a specific course, you'll need to consider several factors:\\n\\n1. **Registration Deadlines**: Check the enrollment or registration deadlines for the course. Many institutions have specific cut-off dates for enrollment.\\n\\n2. **Course Schedule**: Understand the course start and end dates. If the course has already started, inquire if late enrollment is allowed.\\n\\n3. **Institution Policies**: Reach out to the course administrator, registrar, or academic advisor to ask about their policy on late enrollment.\\n\\n4. **Course Format**: For online or self-paced courses, the deadlines might be more flexible compared to traditional in-person courses.\\n\\n5. **Availability**: Ensure there are still seats available if the course has a limited number of participants.\\n\\n6. **Prerequisites**: Make sure you have met all prerequisite requirements, even if joining late.\\n\\nIf the course is already in session, contact the instructor to see if it's feasible to catch up on missed material.\", refusal=None, role='assistant', annotations=[], audio=None, function_call=None, tool_calls=None))], created=1749865470, model='gpt-4o-2024-08-06', object='chat.completion', service_tier='default', system_fingerprint='fp_07871e2ad8', usage=CompletionUsage(completion_tokens=197, prompt_tokens=16, total_tokens=213, completion_tokens_details=CompletionTokensDetails(accepted_prediction_tokens=0, audio_tokens=0, reasoning_tokens=0, rejected_prediction_tokens=0), prompt_tokens_details=PromptTokensDetails(audio_tokens=0, cached_tokens=0)))"
      ]
     },
     "execution_count": 6,
     "metadata": {},
     "output_type": "execute_result"
    }
   ],
   "source": [
    "client.chat.completions.create(\n",
    "    model='gpt-4o',\n",
    "    messages=[{\"role\": \"user\", \"content\": \"is it too late to join the course?\"}]\n",
    ")"
   ]
  },
  {
   "cell_type": "code",
   "execution_count": 7,
   "id": "7e153bc5-9442-451d-b195-aa09980c46bd",
   "metadata": {},
   "outputs": [],
   "source": [
    "response = client.chat.completions.create(\n",
    "    model='gpt-4o',\n",
    "    messages=[{\"role\": \"user\", \"content\": \"is it too late to join the course?\"}]\n",
    ")"
   ]
  },
  {
   "cell_type": "code",
   "execution_count": 8,
   "id": "0e0dc646-7433-451c-a37e-ec030a658411",
   "metadata": {},
   "outputs": [
    {
     "data": {
      "text/plain": [
       "\"I would need more information to give you a specific answer. It depends on the course you're referring to, such as the start date, enrollment deadlines, and the specific policies of the institution offering it. If you have specific details about the course, I can try to offer more tailored advice. However, a general recommendation would be to contact the institution or course provider as soon as possible to inquire about enrollment options.\""
      ]
     },
     "execution_count": 8,
     "metadata": {},
     "output_type": "execute_result"
    }
   ],
   "source": [
    "response.choices[0].message.content"
   ]
  },
  {
   "cell_type": "code",
   "execution_count": null,
   "id": "6592a797-85b4-4eaa-b53f-c3a3195b0928",
   "metadata": {},
   "outputs": [],
   "source": []
  }
 ],
 "metadata": {
  "kernelspec": {
   "display_name": "Python 3 (ipykernel)",
   "language": "python",
   "name": "python3"
  },
  "language_info": {
   "codemirror_mode": {
    "name": "ipython",
    "version": 3
   },
   "file_extension": ".py",
   "mimetype": "text/x-python",
   "name": "python",
   "nbconvert_exporter": "python",
   "pygments_lexer": "ipython3",
   "version": "3.12.11"
  }
 },
 "nbformat": 4,
 "nbformat_minor": 5
}
