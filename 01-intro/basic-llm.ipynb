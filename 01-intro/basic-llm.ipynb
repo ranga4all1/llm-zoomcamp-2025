{
 "cells": [
  {
   "cell_type": "code",
   "execution_count": 1,
   "id": "e90f304e-aeae-4f62-92ce-34d86a71707a",
   "metadata": {},
   "outputs": [],
   "source": [
    "import os\n",
    "import sys\n",
    "from dotenv import load_dotenv\n",
    "\n",
    "from litellm import completion\n",
    "from typing import List, Dict"
   ]
  },
  {
   "cell_type": "code",
   "execution_count": 2,
   "id": "8db2c6b3-0f9e-4cbd-aca7-0fec1ddca0b2",
   "metadata": {},
   "outputs": [],
   "source": [
    "import openai\n",
    "from openai import OpenAI"
   ]
  },
  {
   "cell_type": "code",
   "execution_count": 5,
   "id": "a254bda7-26cb-4269-81e7-da1765d30fcc",
   "metadata": {},
   "outputs": [
    {
     "data": {
      "text/plain": [
       "True"
      ]
     },
     "execution_count": 5,
     "metadata": {},
     "output_type": "execute_result"
    }
   ],
   "source": [
    "# Load environment variables and set API key\n",
    "load_dotenv()\n",
    "# os.getenv(\"OPENAI_API_KEY\")"
   ]
  },
  {
   "cell_type": "code",
   "execution_count": 9,
   "id": "537b2ca8-3e71-4407-8858-3ac2341e63b5",
   "metadata": {},
   "outputs": [],
   "source": [
    "# os.environ"
   ]
  },
  {
   "cell_type": "code",
   "execution_count": 10,
   "id": "1f49d216-980f-4a2a-8e69-efb1b51dd562",
   "metadata": {},
   "outputs": [],
   "source": [
    "client = OpenAI()"
   ]
  },
  {
   "cell_type": "code",
   "execution_count": 11,
   "id": "74a2c9d1-7398-405f-936a-8441cc7f1c81",
   "metadata": {},
   "outputs": [
    {
     "data": {
      "text/plain": [
       "ChatCompletion(id='chatcmpl-BiOpt10mAf6yLgCjSWGQGA0Rwv8it', choices=[Choice(finish_reason='stop', index=0, logprobs=None, message=ChatCompletionMessage(content='To provide an accurate answer, I would need more specific information about the course you are referring to, including its start date, enrollment deadlines, and any specific policies it may have regarding late admissions. Generally, it is best to check directly with the institution offering the course to understand their policy on late enrollment. They may allow you to join late under certain conditions, or they might provide guidance on when the next session or term begins.', refusal=None, role='assistant', annotations=[], audio=None, function_call=None, tool_calls=None))], created=1749921601, model='gpt-4o-2024-08-06', object='chat.completion', service_tier='default', system_fingerprint='fp_07871e2ad8', usage=CompletionUsage(completion_tokens=86, prompt_tokens=16, total_tokens=102, completion_tokens_details=CompletionTokensDetails(accepted_prediction_tokens=0, audio_tokens=0, reasoning_tokens=0, rejected_prediction_tokens=0), prompt_tokens_details=PromptTokensDetails(audio_tokens=0, cached_tokens=0)))"
      ]
     },
     "execution_count": 11,
     "metadata": {},
     "output_type": "execute_result"
    }
   ],
   "source": [
    "client.chat.completions.create(\n",
    "    model='gpt-4o',\n",
    "    messages=[{\"role\": \"user\", \"content\": \"is it too late to join the course?\"}]\n",
    ")"
   ]
  },
  {
   "cell_type": "code",
   "execution_count": 12,
   "id": "7e153bc5-9442-451d-b195-aa09980c46bd",
   "metadata": {},
   "outputs": [],
   "source": [
    "response = client.chat.completions.create(\n",
    "    model='gpt-4o',\n",
    "    messages=[{\"role\": \"user\", \"content\": \"is it too late to join the course?\"}]\n",
    ")"
   ]
  },
  {
   "cell_type": "code",
   "execution_count": 13,
   "id": "0e0dc646-7433-451c-a37e-ec030a658411",
   "metadata": {},
   "outputs": [
    {
     "data": {
      "text/plain": [
       "\"I'm sorry, but I cannot determine the specific course or deadline you're referring to based on the information you've provided. Course enrollment deadlines vary depending on the institution, program, and specific course. To find out whether it's too late to join, I recommend checking the official website of the course provider or contacting their admissions or enrollment office directly for the most accurate and up-to-date information.\""
      ]
     },
     "execution_count": 13,
     "metadata": {},
     "output_type": "execute_result"
    }
   ],
   "source": [
    "response.choices[0].message.content"
   ]
  },
  {
   "cell_type": "markdown",
   "id": "f3c5c3bd-7342-4cc7-8a85-285d16ad004f",
   "metadata": {},
   "source": [
    "## Using LiteLLM"
   ]
  },
  {
   "cell_type": "code",
   "execution_count": 14,
   "id": "903dbffc-c53e-4516-81f1-13e19c16ef96",
   "metadata": {},
   "outputs": [],
   "source": [
    "messages=[{\"role\": \"user\", \"content\": \"is it too late to join the course?\"}]\n",
    "\n",
    "response = completion(\n",
    "    model=\"openai/gpt-4\",\n",
    "    messages=messages, \n",
    "    max_tokens=1024)"
   ]
  },
  {
   "cell_type": "code",
   "execution_count": 15,
   "id": "337fd02a-8c7e-4160-ac1c-abe1c4f1138b",
   "metadata": {},
   "outputs": [
    {
     "data": {
      "text/plain": [
       "\"As an AI, I don't have real-time or personal information. It's best to directly reach out to the institution or person offering the course to find out if you can still join.\""
      ]
     },
     "execution_count": 15,
     "metadata": {},
     "output_type": "execute_result"
    }
   ],
   "source": [
    "response.choices[0].message.content"
   ]
  },
  {
   "cell_type": "code",
   "execution_count": null,
   "id": "72a15cae-46b6-47aa-ad6d-f4ba615ab2c1",
   "metadata": {},
   "outputs": [],
   "source": []
  }
 ],
 "metadata": {
  "kernelspec": {
   "display_name": "Python 3 (ipykernel)",
   "language": "python",
   "name": "python3"
  },
  "language_info": {
   "codemirror_mode": {
    "name": "ipython",
    "version": 3
   },
   "file_extension": ".py",
   "mimetype": "text/x-python",
   "name": "python",
   "nbconvert_exporter": "python",
   "pygments_lexer": "ipython3",
   "version": "3.12.11"
  }
 },
 "nbformat": 4,
 "nbformat_minor": 5
}
