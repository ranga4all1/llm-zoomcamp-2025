{
 "cells": [
  {
   "cell_type": "markdown",
   "id": "a32b658c-ee7d-426a-afd4-b97fc6e7ddb6",
   "metadata": {},
   "source": [
    "# From REST to reasoning: ingest, index, and query with dlt and Cognee\n",
    "\n",
    "* Video: https://www.youtube.com/watch?v=MNt_KK32gys\n",
    "\n",
    "# Resources\n",
    "\n",
    "* [Slides](https://docs.google.com/presentation/d/1oHQilxEVqGGW4S2ctNEE0wHY2LgcjYLaRUziAoinsis/edit?usp=sharing)\n",
    "* [Colab Notebook](https://colab.research.google.com/drive/1vBA9OIGChcKjjg8r5hHduR0v3A5D6rmH?usp=sharing) \n",
    "\n",
    "--- \n",
    "\n",
    "# Homework\n",
    "\n",
    "## Question 1. dlt Version\n",
    "\n",
    "In this homework, we will load the data from our FAQ to Qdrant\n",
    "\n",
    "Let's install dlt with Qdrant support and Qdrant client:\n",
    "\n",
    "```bash\n",
    "pip install -q \"dlt[qdrant]\" \"qdrant-client[fastembed]\"\n",
    "```\n",
    "\n",
    "What's the version of dlt that you installed?\n",
    "\n",
    "**Answer: `dlt 1.13.0`**\n",
    "\n",
    "\n",
    "## dlt Resourse\n",
    "\n",
    "For reading the FAQ data, we have this helper function:\n",
    "\n",
    "```python\n",
    "def zoomcamp_data():\n",
    "    docs_url = 'https://github.com/alexeygrigorev/llm-rag-workshop/raw/main/notebooks/documents.json'\n",
    "    docs_response = requests.get(docs_url)\n",
    "    documents_raw = docs_response.json()\n",
    "\n",
    "    for course in documents_raw:\n",
    "        course_name = course['course']\n",
    "\n",
    "        for doc in course['documents']:\n",
    "            doc['course'] = course_name\n",
    "            yield doc\n",
    "```\n",
    "\n",
    "Annotate it with `@dlt.resource`. We will use it when creating\n",
    "a dlt pipeline.\n"
   ]
  },
  {
   "cell_type": "code",
   "execution_count": 2,
   "id": "41980db4-fe48-43b0-bfe6-1f82069a7b50",
   "metadata": {},
   "outputs": [],
   "source": [
    "import dlt\n",
    "import requests"
   ]
  },
  {
   "cell_type": "code",
   "execution_count": 3,
   "id": "c8f93510-c967-46ee-922e-ed49977cfd7c",
   "metadata": {},
   "outputs": [],
   "source": [
    "@dlt.resource\n",
    "def zoomcamp_data():\n",
    "    docs_url = 'https://github.com/alexeygrigorev/llm-rag-workshop/raw/main/notebooks/documents.json'\n",
    "    docs_response = requests.get(docs_url)\n",
    "    documents_raw = docs_response.json()\n",
    "\n",
    "    for course in documents_raw:\n",
    "        course_name = course['course']\n",
    "\n",
    "        for doc in course['documents']:\n",
    "            doc['course'] = course_name\n",
    "            yield doc"
   ]
  },
  {
   "cell_type": "markdown",
   "id": "3c74a138-e7a4-4b90-be75-74fbdcee4e48",
   "metadata": {},
   "source": [
    "## Question 2. dlt pipeline\n",
    "\n",
    "Now let's create a pipeline. \n",
    "\n",
    "We need to define a destination for that. Let's use the `qdrant` one:\n",
    "\n",
    "```python\n",
    "from dlt.destinations import qdrant\n",
    "\n",
    "qdrant_destination = qdrant(\n",
    "  qd_path=\"db.qdrant\", \n",
    ")\n",
    "```\n",
    "\n",
    "In this case, we tell dlt (and Qdrant) to create a folder with\n",
    "our data, and the name for it will be `db.qdrant`\n",
    "\n",
    "Let's run it:\n",
    "\n",
    "```python\n",
    "pipeline = dlt.pipeline(\n",
    "    pipeline_name=\"zoomcamp_pipeline\",\n",
    "    destination=qdrant_destination,\n",
    "    dataset_name=\"zoomcamp_tagged_data\"\n",
    "\n",
    ")\n",
    "load_info = pipeline.run(zoomcamp_data())\n",
    "print(pipeline.last_trace)\n",
    "```\n",
    "\n",
    "How many rows were inserted into the `zoomcamp_data` collection?\n",
    "\n",
    "Look for `\"Normalized data for the following tables:\"` in the trace output.\n",
    "\n",
    "**Answer: `948` row(s)**"
   ]
  },
  {
   "cell_type": "code",
   "execution_count": 4,
   "id": "959f2f53-4fb4-47c8-9b28-3f345f7b5074",
   "metadata": {},
   "outputs": [],
   "source": [
    "from dlt.destinations import qdrant\n",
    "\n",
    "qdrant_destination = qdrant(\n",
    "  qd_path=\"db.qdrant\", \n",
    ")"
   ]
  },
  {
   "cell_type": "code",
   "execution_count": 5,
   "id": "9e3b78e5-228a-427e-841c-4abbe8a318ed",
   "metadata": {},
   "outputs": [
    {
     "data": {
      "application/vnd.jupyter.widget-view+json": {
       "model_id": "d5c2e25fa4ab4a139e1218217232019a",
       "version_major": 2,
       "version_minor": 0
      },
      "text/plain": [
       "Fetching 5 files:   0%|          | 0/5 [00:00<?, ?it/s]"
      ]
     },
     "metadata": {},
     "output_type": "display_data"
    },
    {
     "data": {
      "application/vnd.jupyter.widget-view+json": {
       "model_id": "f720e9db194c43b5bfeccc3802cc1c93",
       "version_major": 2,
       "version_minor": 0
      },
      "text/plain": [
       "config.json:   0%|          | 0.00/701 [00:00<?, ?B/s]"
      ]
     },
     "metadata": {},
     "output_type": "display_data"
    },
    {
     "data": {
      "application/vnd.jupyter.widget-view+json": {
       "model_id": "cdde472c22e04fb3ae7c48bcf9846353",
       "version_major": 2,
       "version_minor": 0
      },
      "text/plain": [
       "special_tokens_map.json:   0%|          | 0.00/125 [00:00<?, ?B/s]"
      ]
     },
     "metadata": {},
     "output_type": "display_data"
    },
    {
     "data": {
      "application/vnd.jupyter.widget-view+json": {
       "model_id": "956edb9df52840228af39b58b094ff7f",
       "version_major": 2,
       "version_minor": 0
      },
      "text/plain": [
       "tokenizer_config.json:   0%|          | 0.00/366 [00:00<?, ?B/s]"
      ]
     },
     "metadata": {},
     "output_type": "display_data"
    },
    {
     "data": {
      "application/vnd.jupyter.widget-view+json": {
       "model_id": "617086d8bd4b49c8834349eb37151812",
       "version_major": 2,
       "version_minor": 0
      },
      "text/plain": [
       "tokenizer.json: 0.00B [00:00, ?B/s]"
      ]
     },
     "metadata": {},
     "output_type": "display_data"
    },
    {
     "data": {
      "application/vnd.jupyter.widget-view+json": {
       "model_id": "fdbe28a3851e45dca5da4ea47bd365d7",
       "version_major": 2,
       "version_minor": 0
      },
      "text/plain": [
       "model_optimized.onnx:   0%|          | 0.00/133M [00:00<?, ?B/s]"
      ]
     },
     "metadata": {},
     "output_type": "display_data"
    },
    {
     "name": "stdout",
     "output_type": "stream",
     "text": [
      "Run started at 2025-07-13 23:29:52.829039+00:00 and COMPLETED in 11.42 seconds with 4 steps.\n",
      "Step extract COMPLETED in 0.49 seconds.\n",
      "\n",
      "Load package 1752449399.4148023 is EXTRACTED and NOT YET LOADED to the destination and contains no failed jobs\n",
      "\n",
      "Step normalize COMPLETED in 0.07 seconds.\n",
      "Normalized data for the following tables:\n",
      "- zoomcamp_data: 948 row(s)\n",
      "- _dlt_pipeline_state: 1 row(s)\n",
      "\n",
      "Load package 1752449399.4148023 is NORMALIZED and NOT YET LOADED to the destination and contains no failed jobs\n",
      "\n",
      "Step load COMPLETED in 4.28 seconds.\n",
      "Pipeline zoomcamp_pipeline load step completed in 4.26 seconds\n",
      "1 load package(s) were loaded to destination qdrant and into dataset zoomcamp_tagged_data\n",
      "The qdrant destination used /workspaces/llm-zoomcamp-2025/homework/workshops/dlt/db.qdrant location to store data\n",
      "Load package 1752449399.4148023 is LOADED and contains no failed jobs\n",
      "\n",
      "Step run COMPLETED in 11.42 seconds.\n",
      "Pipeline zoomcamp_pipeline load step completed in 4.26 seconds\n",
      "1 load package(s) were loaded to destination qdrant and into dataset zoomcamp_tagged_data\n",
      "The qdrant destination used /workspaces/llm-zoomcamp-2025/homework/workshops/dlt/db.qdrant location to store data\n",
      "Load package 1752449399.4148023 is LOADED and contains no failed jobs\n"
     ]
    }
   ],
   "source": [
    "pipeline = dlt.pipeline(\n",
    "    pipeline_name=\"zoomcamp_pipeline\",\n",
    "    destination=qdrant_destination,\n",
    "    dataset_name=\"zoomcamp_tagged_data\"\n",
    "\n",
    ")\n",
    "load_info = pipeline.run(zoomcamp_data())\n",
    "print(pipeline.last_trace)"
   ]
  },
  {
   "cell_type": "markdown",
   "id": "738e4444-e141-477b-ba7e-222baf4db555",
   "metadata": {},
   "source": [
    "## Question 3. Embeddings\n",
    "\n",
    "When inserting the data, an embedding model was used. Which one?\n",
    "\n",
    "You can find this out by inspecting the `meta.json` file created\n",
    "in the target folder. During the data insertion process, a folder named db.qdrant will be created, and the meta.json file will be located inside this folder.\n",
    "\n",
    "**Answer: `fast-bge-small-en`**"
   ]
  },
  {
   "cell_type": "code",
   "execution_count": 6,
   "id": "35ba41b3-886b-4707-8cce-beb9b9d38703",
   "metadata": {
    "scrolled": true
   },
   "outputs": [
    {
     "name": "stdout",
     "output_type": "stream",
     "text": [
      "{\"collections\": {\"zoomcamp_tagged_data\": {\"vectors\": {\"fast-bge-small-en\": {\"size\": 384, \"distance\": \"Cosine\", \"hnsw_config\": null, \"quantization_config\": null, \"on_disk\": null, \"datatype\": null, \"multivector_config\": null}}, \"shard_number\": null, \"sharding_method\": null, \"replication_factor\": null, \"write_consistency_factor\": null, \"on_disk_payload\": null, \"hnsw_config\": null, \"wal_config\": null, \"optimizers_config\": null, \"init_from\": null, \"quantization_config\": null, \"sparse_vectors\": null, \"strict_mode_config\": null}, \"zoomcamp_tagged_data__dlt_version\": {\"vectors\": {\"fast-bge-small-en\": {\"size\": 384, \"distance\": \"Cosine\", \"hnsw_config\": null, \"quantization_config\": null, \"on_disk\": null, \"datatype\": null, \"multivector_config\": null}}, \"shard_number\": null, \"sharding_method\": null, \"replication_factor\": null, \"write_consistency_factor\": null, \"on_disk_payload\": null, \"hnsw_config\": null, \"wal_config\": null, \"optimizers_config\": null, \"init_from\": null, \"quantization_config\": null, \"sparse_vectors\": null, \"strict_mode_config\": null}, \"zoomcamp_tagged_data__dlt_pipeline_state\": {\"vectors\": {\"fast-bge-small-en\": {\"size\": 384, \"distance\": \"Cosine\", \"hnsw_config\": null, \"quantization_config\": null, \"on_disk\": null, \"datatype\": null, \"multivector_config\": null}}, \"shard_number\": null, \"sharding_method\": null, \"replication_factor\": null, \"write_consistency_factor\": null, \"on_disk_payload\": null, \"hnsw_config\": null, \"wal_config\": null, \"optimizers_config\": null, \"init_from\": null, \"quantization_config\": null, \"sparse_vectors\": null, \"strict_mode_config\": null}, \"zoomcamp_tagged_data_zoomcamp_data\": {\"vectors\": {\"fast-bge-small-en\": {\"size\": 384, \"distance\": \"Cosine\", \"hnsw_config\": null, \"quantization_config\": null, \"on_disk\": null, \"datatype\": null, \"multivector_config\": null}}, \"shard_number\": null, \"sharding_method\": null, \"replication_factor\": null, \"write_consistency_factor\": null, \"on_disk_payload\": null, \"hnsw_config\": null, \"wal_config\": null, \"optimizers_config\": null, \"init_from\": null, \"quantization_config\": null, \"sparse_vectors\": null, \"strict_mode_config\": null}, \"zoomcamp_tagged_data__dlt_loads\": {\"vectors\": {\"fast-bge-small-en\": {\"size\": 384, \"distance\": \"Cosine\", \"hnsw_config\": null, \"quantization_config\": null, \"on_disk\": null, \"datatype\": null, \"multivector_config\": null}}, \"shard_number\": null, \"sharding_method\": null, \"replication_factor\": null, \"write_consistency_factor\": null, \"on_disk_payload\": null, \"hnsw_config\": null, \"wal_config\": null, \"optimizers_config\": null, \"init_from\": null, \"quantization_config\": null, \"sparse_vectors\": null, \"strict_mode_config\": null}}, \"aliases\": {}}\n"
     ]
    }
   ],
   "source": [
    "! cat db.qdrant/meta.json | grep vectors"
   ]
  },
  {
   "cell_type": "code",
   "execution_count": null,
   "id": "de72f005-6cf4-4e1e-83ec-13f7bc9bb9f1",
   "metadata": {},
   "outputs": [],
   "source": []
  }
 ],
 "metadata": {
  "kernelspec": {
   "display_name": "Python 3 (ipykernel)",
   "language": "python",
   "name": "python3"
  },
  "language_info": {
   "codemirror_mode": {
    "name": "ipython",
    "version": 3
   },
   "file_extension": ".py",
   "mimetype": "text/x-python",
   "name": "python",
   "nbconvert_exporter": "python",
   "pygments_lexer": "ipython3",
   "version": "3.12.11"
  }
 },
 "nbformat": 4,
 "nbformat_minor": 5
}
