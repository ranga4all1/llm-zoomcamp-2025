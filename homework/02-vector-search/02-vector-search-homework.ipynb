{
 "cells": [
  {
   "cell_type": "markdown",
   "id": "acda8505-d6ec-478b-b0b2-cb021aa49724",
   "metadata": {},
   "source": [
    "## Homework: Vector Search\n",
    "\n",
    "In this homework, we will learn more about vector search\n",
    "and embedding. Like in the module, we will use Qdrant and\n",
    "fastembed\n",
    "\n",
    "> It's possible that your answers won't match exactly. If it's the case, select the closest one.\n",
    "\n",
    "Note: if you want to learn how vector search works under\n",
    "the hood, check \n",
    "[homework 3 from 2024 cohort (questions 1-4)](../../2024/03-vector-search/homework.md)\n",
    "\n",
    "## Embeddings\n",
    "\n",
    "Qdrant uses [fastembed](https://github.com/qdrant/fastembed)\n",
    "under the hood to turn text into vectors. \n",
    "\n",
    "We will now explore this library\n",
    "\n",
    "Make sure it's installed:\n",
    "\n",
    "```bash\n",
    "pip install fastembed\n",
    "```\n",
    "\n",
    "Import it: \n",
    "\n",
    "```python\n",
    "from fastembed import TextEmbedding\n",
    "```\n",
    "\n",
    "## Q1. Embedding the query\n",
    "\n",
    "Embed the query: `'I just discovered the course. Can I join now?'`.\n",
    "Use the `'jinaai/jina-embeddings-v2-small-en'` model. \n",
    "\n",
    "You should get a numpy array of size 512.\n",
    "\n",
    "What's the minimal value in this array?\n",
    "\n",
    "* -0.51\n",
    "* -0.11\n",
    "* 0\n",
    "* 0.51\n",
    "\n",
    "**Answer: `-0.11`**"
   ]
  },
  {
   "cell_type": "code",
   "execution_count": 1,
   "id": "e2e2f1bc-1ce8-45a3-93ec-ad3b439b2d83",
   "metadata": {},
   "outputs": [],
   "source": [
    "import numpy as np\n",
    "from fastembed import TextEmbedding"
   ]
  },
  {
   "cell_type": "code",
   "execution_count": 2,
   "id": "88f4f95a-4e32-40dd-8f86-8d069eaf493f",
   "metadata": {},
   "outputs": [],
   "source": [
    "model_handle = TextEmbedding(\"jinaai/jina-embeddings-v2-small-en\")\n",
    "embeddings_generator = model_handle"
   ]
  },
  {
   "cell_type": "code",
   "execution_count": 3,
   "id": "43cc6f8c-92ec-4491-ba89-dc41678bccd9",
   "metadata": {},
   "outputs": [
    {
     "data": {
      "text/plain": [
       "'jinaai/jina-embeddings-v2-small-en'"
      ]
     },
     "execution_count": 3,
     "metadata": {},
     "output_type": "execute_result"
    }
   ],
   "source": [
    "model_handle.model_name"
   ]
  },
  {
   "cell_type": "code",
   "execution_count": 4,
   "id": "2d54d56c-67c9-4d73-b895-9db91760531d",
   "metadata": {},
   "outputs": [],
   "source": [
    "documents = [\"I just discovered the course. Can I join now?\"]"
   ]
  },
  {
   "cell_type": "code",
   "execution_count": 5,
   "id": "dbd8a980-73e6-4826-afe5-d5aae5b0c778",
   "metadata": {},
   "outputs": [],
   "source": [
    "embeddings = list(model_handle.embed(documents))"
   ]
  },
  {
   "cell_type": "code",
   "execution_count": 6,
   "id": "a234abaf-7d14-4bdf-a0c6-dcbb7b8aa57f",
   "metadata": {},
   "outputs": [
    {
     "data": {
      "text/plain": [
       "(512,)"
      ]
     },
     "execution_count": 6,
     "metadata": {},
     "output_type": "execute_result"
    }
   ],
   "source": [
    "embeddings[0].shape"
   ]
  },
  {
   "cell_type": "code",
   "execution_count": 7,
   "id": "1aa4d1b9-04b5-454c-ad5c-af3bf79d1708",
   "metadata": {},
   "outputs": [
    {
     "data": {
      "text/plain": [
       "array([-7.63946260e-02, -7.30555505e-02,  5.86501763e-02,  3.92670571e-02,\n",
       "       -1.41797115e-02, -4.68342854e-02,  2.69862822e-02,  3.49039060e-02,\n",
       "        1.53419217e-03, -1.10407363e-02,  5.57556285e-02, -2.88360142e-02,\n",
       "       -4.87239498e-02, -9.90923923e-02,  6.02579764e-02, -1.86105379e-02,\n",
       "       -8.81040139e-03, -3.01994831e-02, -1.42541815e-02, -3.87884212e-02,\n",
       "       -2.76125662e-02, -6.94957533e-03,  3.20653319e-02, -5.17838394e-03,\n",
       "        8.37959894e-02, -8.87329606e-02, -7.30260625e-02,  5.92846802e-02,\n",
       "        4.07805674e-02,  7.72684822e-02, -4.60029697e-02,  3.98426895e-02,\n",
       "        1.74821510e-02,  8.70263712e-03, -3.09291054e-02,  2.20470391e-02,\n",
       "        4.76479896e-02,  1.76566196e-02, -3.62013627e-02, -3.53408062e-02,\n",
       "       -5.92537995e-03,  2.97091202e-02,  8.05883752e-02,  1.07132722e-02,\n",
       "       -5.38192519e-02, -9.62881111e-03, -1.17263739e-01,  3.36546374e-02,\n",
       "        7.05763168e-03,  7.70159791e-03, -5.17482529e-02,  5.46955574e-02,\n",
       "       -7.80289904e-02,  4.21801655e-02,  1.26250977e-02,  5.31339061e-02,\n",
       "       -2.67777188e-02,  1.68820697e-02, -3.75064593e-02,  9.13196419e-03,\n",
       "        2.13696828e-02,  1.60150107e-02, -5.05650168e-02,  5.62205981e-02,\n",
       "       -3.66802752e-02, -3.85416649e-02, -4.21257068e-02, -1.36921605e-02,\n",
       "       -8.58582000e-02,  2.62640812e-02, -6.18555653e-02, -8.85548653e-03,\n",
       "        1.23171107e-01, -6.75609552e-02, -4.34100617e-03,  1.59791480e-02,\n",
       "       -4.54303694e-02,  7.61061035e-02,  1.84935283e-02, -3.07273239e-02,\n",
       "       -4.37180980e-02, -4.74576970e-02, -1.95920213e-02,  1.23776773e-02,\n",
       "       -9.96104568e-03, -6.74156430e-02,  2.54752070e-02,  1.22318157e-02,\n",
       "        5.58628908e-02, -3.14317861e-02, -7.23993812e-03,  6.33249508e-02,\n",
       "        5.72494416e-03, -6.21999926e-02, -3.08616666e-02, -4.27290132e-02,\n",
       "        5.16963715e-02,  3.27879512e-02, -2.44813464e-02,  1.79127801e-02,\n",
       "        9.48254300e-02,  2.18383887e-04,  7.01356128e-02, -2.01385767e-02,\n",
       "        3.64990936e-02,  2.13020106e-02, -5.67677388e-02, -3.08141841e-02,\n",
       "       -1.13907057e-01, -2.70064381e-02,  2.60184816e-03, -3.29073599e-02,\n",
       "       -2.55483216e-02, -3.43663291e-03, -5.98275691e-02,  1.65986045e-02,\n",
       "        7.20702840e-02, -4.90840227e-02, -4.08007783e-02, -1.96389009e-02,\n",
       "        5.16470383e-02,  2.06059173e-02, -1.93461828e-02,  3.72109559e-02,\n",
       "        5.30464167e-02,  7.98735160e-02,  8.71969437e-04, -3.86963865e-03,\n",
       "       -1.05970662e-02,  2.70435984e-03, -2.64808107e-02,  2.43888780e-02,\n",
       "       -2.96613003e-02,  1.24279089e-02,  1.33079558e-01, -3.45950744e-02,\n",
       "       -4.59976034e-03,  3.19832290e-02, -3.03514393e-02,  3.81469801e-02,\n",
       "       -4.84041680e-02, -4.63792157e-02,  4.00906577e-02, -4.82729863e-02,\n",
       "       -1.67069455e-02,  3.55168502e-03,  6.37974835e-02, -5.38861010e-02,\n",
       "       -7.28366643e-02,  1.03431210e-04, -1.55753781e-02,  3.20123469e-02,\n",
       "       -6.41519738e-02, -1.35402483e-02, -1.19589491e-03,  8.67279173e-02,\n",
       "       -7.58013634e-03,  5.23631978e-02,  1.13389494e-02, -2.93922167e-02,\n",
       "       -1.96549197e-02,  7.33475686e-02, -1.86934887e-02, -4.86155360e-02,\n",
       "       -4.39756671e-02, -4.00230242e-02,  7.97138121e-02,  9.00253404e-02,\n",
       "       -5.18778926e-02,  8.56788887e-03,  5.70034858e-02,  2.18162346e-02,\n",
       "       -6.55327841e-02, -1.07204614e-02, -1.09933147e-01, -3.49229900e-02,\n",
       "       -1.67648673e-02,  1.53578421e-02, -4.12044263e-02, -3.24616957e-02,\n",
       "        2.44591813e-02, -3.86447249e-02, -2.74304005e-02,  2.07971664e-02,\n",
       "        2.59328065e-02, -4.47550373e-02, -2.40584152e-02,  7.30849360e-03,\n",
       "        1.92917565e-02, -2.69451117e-02,  1.38715598e-02,  6.96978341e-03,\n",
       "        1.17285654e-02, -1.83301697e-02, -2.18455101e-02,  2.70035214e-03,\n",
       "       -1.10025930e-02,  8.52295180e-03, -1.21902448e-03,  2.31681636e-02,\n",
       "        8.07126958e-03,  6.94039269e-02, -5.96166642e-02,  3.58433548e-02,\n",
       "       -4.35553226e-02,  4.33547736e-02, -4.15783640e-02, -5.66755635e-02,\n",
       "       -5.41887066e-02, -2.39018335e-02,  5.63714821e-03,  2.37437432e-02,\n",
       "        7.10345497e-02,  1.73168487e-02, -3.22589041e-02, -1.94681982e-02,\n",
       "       -1.88142497e-02, -2.30825031e-02,  3.37894944e-02, -1.82798398e-02,\n",
       "        3.88098424e-03,  1.84338045e-02, -4.55277628e-03,  2.63694266e-02,\n",
       "       -1.90359504e-02, -2.69390028e-02,  1.15375980e-02,  1.16613910e-02,\n",
       "       -8.27911303e-03, -3.64428532e-02,  9.96343799e-02, -2.95558942e-02,\n",
       "       -5.38948585e-02, -2.51995032e-02,  1.22391840e-02, -2.27057696e-02,\n",
       "        5.10331226e-03, -6.74026331e-03, -2.43784301e-02,  6.32223970e-04,\n",
       "       -7.28257728e-02,  3.13266362e-02,  6.93626651e-02, -4.75812931e-02,\n",
       "        3.87882214e-03,  3.42483823e-02,  7.59028679e-02, -9.77512922e-03,\n",
       "        4.14942597e-02,  7.31681366e-02, -1.54856581e-02, -1.17918575e-02,\n",
       "       -1.91986853e-02, -9.79173999e-02, -3.14926753e-02,  5.35587215e-02,\n",
       "       -2.07791778e-02,  6.31239230e-02, -5.97242859e-02, -2.34605019e-02,\n",
       "        1.62664047e-02,  5.36607945e-02, -1.37692602e-02,  6.59834105e-02,\n",
       "       -9.24494435e-03, -1.99639826e-03, -4.87563415e-02,  1.39512364e-02,\n",
       "        1.22513624e-02,  2.98668828e-02, -8.00471534e-03, -5.96026749e-03,\n",
       "        2.81731843e-02, -2.13344179e-02, -3.77622793e-02, -2.27153343e-02,\n",
       "        5.60920953e-02,  4.30224526e-03,  3.63267996e-02, -3.72252920e-02,\n",
       "       -4.53949945e-02,  5.85438537e-02,  1.51176422e-02,  1.58622231e-02,\n",
       "        7.37733782e-02, -2.13885598e-02,  3.21582294e-02,  4.98212947e-02,\n",
       "        1.01769604e-01, -1.24236435e-02,  1.43238043e-02, -9.48454560e-02,\n",
       "       -2.63608466e-02, -8.66007188e-03, -9.82907467e-03,  7.52736761e-02,\n",
       "        3.69446387e-02,  3.14539880e-02,  1.04801427e-03,  3.11805728e-02,\n",
       "        1.28968684e-02,  2.60712994e-02, -4.77127535e-02, -2.55665457e-02,\n",
       "        1.08133073e-02,  1.03259874e-02,  3.39032555e-02,  2.75457424e-03,\n",
       "       -4.14582012e-02, -1.88644922e-02, -7.76502173e-03, -2.58755999e-02,\n",
       "       -1.52598044e-02,  3.38669614e-02,  6.38997726e-02,  3.95947359e-02,\n",
       "        6.39279106e-02, -5.20339341e-02, -6.02775764e-02,  1.38304806e-02,\n",
       "       -3.38930505e-02,  8.20156635e-03,  4.29572420e-02,  2.78503586e-02,\n",
       "        4.60315577e-02,  3.15629126e-02, -6.26106865e-02, -2.00963853e-02,\n",
       "       -2.12951154e-02,  7.16957078e-03, -2.15068569e-02,  2.82382423e-02,\n",
       "       -5.88513197e-02, -9.00752448e-02, -4.32891886e-02,  1.63749742e-02,\n",
       "       -6.45089774e-02, -7.18055952e-02,  2.46501169e-02, -2.64174014e-02,\n",
       "        3.86115464e-02,  1.27169565e-02,  8.03685672e-04,  8.49159402e-02,\n",
       "        1.61136302e-02, -4.81793090e-03,  2.04594849e-02,  1.67128650e-02,\n",
       "       -3.03005825e-02, -1.24897047e-02, -3.63357728e-02,  1.44468333e-03,\n",
       "       -4.16270567e-02, -1.42457325e-02, -8.83564826e-02,  6.22003659e-03,\n",
       "       -2.39217371e-02, -7.03374646e-02, -1.11459769e-02,  1.11177866e-01,\n",
       "        6.87285555e-03, -7.54896071e-02, -1.73166835e-02,  6.21763840e-02,\n",
       "        4.25542051e-02, -1.69422625e-02, -1.63471712e-02, -3.44401454e-02,\n",
       "        4.77698132e-02,  2.33155298e-02,  8.94857826e-02,  1.42584208e-02,\n",
       "        1.43973414e-02, -5.88510365e-02,  3.24906040e-02, -3.99427283e-02,\n",
       "        4.31553610e-02, -7.62977668e-04,  1.45717973e-04, -1.85997997e-02,\n",
       "        1.81445612e-02,  1.57167364e-02,  1.29852596e-02, -5.66555449e-02,\n",
       "       -5.92251874e-02,  2.17671620e-02, -1.70178640e-02,  2.31958723e-02,\n",
       "        5.17287716e-02,  3.37852959e-03, -4.31143234e-02, -4.11303191e-02,\n",
       "       -3.27946610e-02,  2.10255619e-02,  4.65154831e-02, -7.14069534e-02,\n",
       "        6.12375013e-02,  5.74542284e-02, -1.79589860e-02,  7.42588820e-02,\n",
       "       -7.82925929e-03,  2.00935910e-02, -4.51636184e-02, -8.47051140e-03,\n",
       "       -4.02671006e-02, -3.99867475e-02, -7.70418961e-02, -1.81935777e-02,\n",
       "        2.48719998e-02,  1.00413838e-02,  5.88155492e-02,  1.62364723e-02,\n",
       "        6.73376058e-02,  1.34455565e-02, -3.37173721e-02, -7.30230081e-02,\n",
       "       -6.79930628e-02, -2.74973249e-02, -3.99597450e-02,  2.44650646e-02,\n",
       "        1.31535110e-02,  2.45552779e-03, -3.60949438e-02,  2.72918057e-02,\n",
       "        6.22414340e-02,  7.20206119e-03,  2.80186718e-02, -3.16789369e-02,\n",
       "        5.00258220e-02,  3.00860520e-02,  7.12026124e-03, -3.76218121e-02,\n",
       "       -4.77905406e-02,  3.03310049e-02, -7.07371730e-02,  4.68780653e-02,\n",
       "        2.32905925e-02, -8.25114015e-02,  2.57834102e-02, -8.21667654e-03,\n",
       "        1.05564397e-01, -9.76066944e-02,  3.49954042e-02,  2.96988144e-02,\n",
       "        6.05656990e-02,  9.99905877e-02,  6.00288395e-02, -2.74579383e-02,\n",
       "       -3.83101976e-02,  4.98680448e-02,  9.85788765e-03,  5.27928464e-02,\n",
       "       -4.71740333e-02,  2.29061163e-02, -1.41790659e-02, -2.21464944e-03,\n",
       "       -1.27322523e-02, -1.00020015e-01,  2.18197615e-02,  2.71504457e-02,\n",
       "        3.33837602e-02, -2.58465315e-02, -3.42772881e-02, -1.70145880e-02,\n",
       "        8.48108924e-03,  2.40059520e-02,  5.04427584e-02, -7.67204713e-03,\n",
       "        6.80716881e-02, -1.75598061e-02, -1.96400559e-02, -8.53397784e-02,\n",
       "       -3.29056414e-03,  4.06993761e-02,  9.23691839e-02,  1.29570486e-02,\n",
       "        5.61266639e-02,  4.19532063e-02, -5.81196839e-02,  9.31649506e-02,\n",
       "       -8.03499941e-02, -5.46839092e-02, -6.23098193e-02, -8.77602426e-02,\n",
       "       -3.27637979e-02, -3.68523842e-02,  2.54524859e-02, -3.51777163e-03,\n",
       "        6.20159225e-02,  3.89112303e-02, -4.91863775e-02, -6.71836526e-02,\n",
       "       -1.25448864e-02, -3.02974540e-02, -4.00670636e-02,  4.24238795e-02,\n",
       "        2.46685657e-02, -4.83336442e-02,  6.88141229e-02,  4.17306001e-02,\n",
       "        4.73113083e-02, -7.63803321e-02,  1.48983892e-02,  4.59311499e-02,\n",
       "       -2.27894423e-02,  7.15364112e-02, -2.08668148e-02, -4.33649954e-02,\n",
       "       -7.64807886e-02,  7.62216942e-02,  3.91963105e-02,  1.22587277e-02])"
      ]
     },
     "execution_count": 7,
     "metadata": {},
     "output_type": "execute_result"
    }
   ],
   "source": [
    "embeddings[0]"
   ]
  },
  {
   "cell_type": "code",
   "execution_count": 8,
   "id": "f02f84a1-7b6e-4dfc-922c-aea0bc873dcc",
   "metadata": {},
   "outputs": [
    {
     "data": {
      "text/plain": [
       "np.float64(-0.11726373885183883)"
      ]
     },
     "execution_count": 8,
     "metadata": {},
     "output_type": "execute_result"
    }
   ],
   "source": [
    "embeddings[0].min()"
   ]
  },
  {
   "cell_type": "markdown",
   "id": "c4095912-5af8-4a3b-9a17-7975c4752c7f",
   "metadata": {},
   "source": [
    "## Cosine similarity\n",
    "\n",
    "The vectors that our embedding model returns are already normalized: their length is 1.0.\n",
    "\n",
    "You can check that by using the `norm` function:\n",
    "\n",
    "```python\n",
    "import numpy as np\n",
    "np.linalg.norm(q)\n",
    "```\n",
    "\n",
    "Which means that we can simply compute the dot product between\n",
    "two vectors to learn the cosine similarity between them.\n",
    "\n",
    "For example, if you compute the cosine of the query vector with itself, the result will be 1.0:\n",
    "\n",
    "```python\n",
    "q.dot(q)\n",
    "```\n",
    "\n",
    "## Q2. Cosine similarity with another vector\n",
    "\n",
    "Now let's embed this document:\n",
    "\n",
    "```python\n",
    "doc = 'Can I still join the course after the start date?'\n",
    "```\n",
    "\n",
    "What's the cosine similarity between the vector for the query\n",
    "and the vector for the document?\n",
    "\n",
    "* 0.3\n",
    "* 0.5\n",
    "* 0.7\n",
    "* 0.9\n",
    "\n",
    "**Answer: `0.9`**"
   ]
  },
  {
   "cell_type": "code",
   "execution_count": 9,
   "id": "ad0b230c-4bf9-4be2-8ae7-b025c90adb0f",
   "metadata": {},
   "outputs": [
    {
     "data": {
      "text/plain": [
       "np.float64(1.0)"
      ]
     },
     "execution_count": 9,
     "metadata": {},
     "output_type": "execute_result"
    }
   ],
   "source": [
    "np.linalg.norm(embeddings[0])"
   ]
  },
  {
   "cell_type": "code",
   "execution_count": 10,
   "id": "49951dd0-2085-49ea-aa23-596b3a4925d7",
   "metadata": {},
   "outputs": [
    {
     "data": {
      "text/plain": [
       "np.float64(1.0000000000000002)"
      ]
     },
     "execution_count": 10,
     "metadata": {},
     "output_type": "execute_result"
    }
   ],
   "source": [
    "embeddings[0].dot(embeddings[0])"
   ]
  },
  {
   "cell_type": "code",
   "execution_count": 11,
   "id": "78a016a6-3f55-4472-8d5d-3e06ad13bad8",
   "metadata": {},
   "outputs": [],
   "source": [
    "doc = 'Can I still join the course after the start date?'"
   ]
  },
  {
   "cell_type": "code",
   "execution_count": 12,
   "id": "e7f727d1-7789-44de-ba4f-38209d9bf405",
   "metadata": {},
   "outputs": [],
   "source": [
    "query_vector = list(model_handle.embed(doc))"
   ]
  },
  {
   "cell_type": "code",
   "execution_count": 13,
   "id": "8bf0c2ea-6692-4489-b914-f1e2cb4363d8",
   "metadata": {},
   "outputs": [
    {
     "data": {
      "text/plain": [
       "(512,)"
      ]
     },
     "execution_count": 13,
     "metadata": {},
     "output_type": "execute_result"
    }
   ],
   "source": [
    "query_vector[0].shape"
   ]
  },
  {
   "cell_type": "code",
   "execution_count": 14,
   "id": "38bafbc4-a184-41f3-b0e1-15b1deba998e",
   "metadata": {},
   "outputs": [
    {
     "data": {
      "text/plain": [
       "np.float64(0.9008528895674548)"
      ]
     },
     "execution_count": 14,
     "metadata": {},
     "output_type": "execute_result"
    }
   ],
   "source": [
    "# cosine similarity\n",
    "query_vector[0].dot(embeddings[0])"
   ]
  },
  {
   "cell_type": "markdown",
   "id": "d1b02250-c793-42d3-b0e9-449565d4b669",
   "metadata": {},
   "source": [
    "## Q3. Ranking by cosine\n",
    "\n",
    "For Q3 and Q4 we will use these documents:\n",
    "\n",
    "```python\n",
    "documents = [{'text': \"Yes, even if you don't register, you're still eligible to submit the homeworks.\\nBe aware, however, that there will be deadlines for turning in the final projects. So don't leave everything for the last minute.\",\n",
    "  'section': 'General course-related questions',\n",
    "  'question': 'Course - Can I still join the course after the start date?',\n",
    "  'course': 'data-engineering-zoomcamp'},\n",
    " {'text': 'Yes, we will keep all the materials after the course finishes, so you can follow the course at your own pace after it finishes.\\nYou can also continue looking at the homeworks and continue preparing for the next cohort. I guess you can also start working on your final capstone project.',\n",
    "  'section': 'General course-related questions',\n",
    "  'question': 'Course - Can I follow the course after it finishes?',\n",
    "  'course': 'data-engineering-zoomcamp'},\n",
    " {'text': \"The purpose of this document is to capture frequently asked technical questions\\nThe exact day and hour of the course will be 15th Jan 2024 at 17h00. The course will start with the first  “Office Hours'' live.1\\nSubscribe to course public Google Calendar (it works from Desktop only).\\nRegister before the course starts using this link.\\nJoin the course Telegram channel with announcements.\\nDon’t forget to register in DataTalks.Club's Slack and join the channel.\",\n",
    "  'section': 'General course-related questions',\n",
    "  'question': 'Course - When will the course start?',\n",
    "  'course': 'data-engineering-zoomcamp'},\n",
    " {'text': 'You can start by installing and setting up all the dependencies and requirements:\\nGoogle cloud account\\nGoogle Cloud SDK\\nPython 3 (installed with Anaconda)\\nTerraform\\nGit\\nLook over the prerequisites and syllabus to see if you are comfortable with these subjects.',\n",
    "  'section': 'General course-related questions',\n",
    "  'question': 'Course - What can I do before the course starts?',\n",
    "  'course': 'data-engineering-zoomcamp'},\n",
    " {'text': 'Star the repo! Share it with friends if you find it useful ❣️\\nCreate a PR if you see you can improve the text or the structure of the repository.',\n",
    "  'section': 'General course-related questions',\n",
    "  'question': 'How can we contribute to the course?',\n",
    "  'course': 'data-engineering-zoomcamp'}]\n",
    "```\n",
    "\n",
    "Compute the embeddings for the text field, and compute the \n",
    "cosine between the query vector and all the documents.\n",
    "\n",
    "What's the document index with the highest similarity? (Indexing starts from 0):\n",
    "\n",
    "- 0\n",
    "- 1\n",
    "- 2\n",
    "- 3\n",
    "- 4\n",
    "\n",
    "Hint: if you put all the embeddings of the text field in one matrix `V` (a single 2-dimensional numpy array), then\n",
    "computing the cosine becomes a matrix multiplication:\n",
    "\n",
    "```python\n",
    "V.dot(q)\n",
    "```\n",
    "\n",
    "If this hint is rather confusing you than helping, feel free\n",
    "to ignore it.\n",
    "\n",
    "**Answer: `1`**"
   ]
  },
  {
   "cell_type": "code",
   "execution_count": 15,
   "id": "d897f440-a006-4ae0-afde-a973c8099606",
   "metadata": {},
   "outputs": [],
   "source": [
    "documents = [{'text': \"Yes, even if you don't register, you're still eligible to submit the homeworks.\\nBe aware, however, that there will be deadlines for turning in the final projects. So don't leave everything for the last minute.\",\n",
    "  'section': 'General course-related questions',\n",
    "  'question': 'Course - Can I still join the course after the start date?',\n",
    "  'course': 'data-engineering-zoomcamp'},\n",
    " {'text': 'Yes, we will keep all the materials after the course finishes, so you can follow the course at your own pace after it finishes.\\nYou can also continue looking at the homeworks and continue preparing for the next cohort. I guess you can also start working on your final capstone project.',\n",
    "  'section': 'General course-related questions',\n",
    "  'question': 'Course - Can I follow the course after it finishes?',\n",
    "  'course': 'data-engineering-zoomcamp'},\n",
    " {'text': \"The purpose of this document is to capture frequently asked technical questions\\nThe exact day and hour of the course will be 15th Jan 2024 at 17h00. The course will start with the first  “Office Hours'' live.1\\nSubscribe to course public Google Calendar (it works from Desktop only).\\nRegister before the course starts using this link.\\nJoin the course Telegram channel with announcements.\\nDon’t forget to register in DataTalks.Club's Slack and join the channel.\",\n",
    "  'section': 'General course-related questions',\n",
    "  'question': 'Course - When will the course start?',\n",
    "  'course': 'data-engineering-zoomcamp'},\n",
    " {'text': 'You can start by installing and setting up all the dependencies and requirements:\\nGoogle cloud account\\nGoogle Cloud SDK\\nPython 3 (installed with Anaconda)\\nTerraform\\nGit\\nLook over the prerequisites and syllabus to see if you are comfortable with these subjects.',\n",
    "  'section': 'General course-related questions',\n",
    "  'question': 'Course - What can I do before the course starts?',\n",
    "  'course': 'data-engineering-zoomcamp'},\n",
    " {'text': 'Star the repo! Share it with friends if you find it useful ❣️\\nCreate a PR if you see you can improve the text or the structure of the repository.',\n",
    "  'section': 'General course-related questions',\n",
    "  'question': 'How can we contribute to the course?',\n",
    "  'course': 'data-engineering-zoomcamp'}]"
   ]
  },
  {
   "cell_type": "code",
   "execution_count": 16,
   "id": "44db1731-3e19-4770-a56a-3a50a8716d10",
   "metadata": {},
   "outputs": [],
   "source": [
    "query = \"I just discovered the course. Can I join now?\""
   ]
  },
  {
   "cell_type": "code",
   "execution_count": 17,
   "id": "b10b255d-c2e4-41ce-ae6e-f34e7e6918a3",
   "metadata": {},
   "outputs": [],
   "source": [
    "text_documents = [doc['text'] for doc in documents]"
   ]
  },
  {
   "cell_type": "code",
   "execution_count": 18,
   "id": "32f7fafd-a27b-4de3-b69e-30da31cf1d70",
   "metadata": {},
   "outputs": [
    {
     "data": {
      "text/plain": [
       "[\"Yes, even if you don't register, you're still eligible to submit the homeworks.\\nBe aware, however, that there will be deadlines for turning in the final projects. So don't leave everything for the last minute.\",\n",
       " 'Yes, we will keep all the materials after the course finishes, so you can follow the course at your own pace after it finishes.\\nYou can also continue looking at the homeworks and continue preparing for the next cohort. I guess you can also start working on your final capstone project.',\n",
       " \"The purpose of this document is to capture frequently asked technical questions\\nThe exact day and hour of the course will be 15th Jan 2024 at 17h00. The course will start with the first  “Office Hours'' live.1\\nSubscribe to course public Google Calendar (it works from Desktop only).\\nRegister before the course starts using this link.\\nJoin the course Telegram channel with announcements.\\nDon’t forget to register in DataTalks.Club's Slack and join the channel.\",\n",
       " 'You can start by installing and setting up all the dependencies and requirements:\\nGoogle cloud account\\nGoogle Cloud SDK\\nPython 3 (installed with Anaconda)\\nTerraform\\nGit\\nLook over the prerequisites and syllabus to see if you are comfortable with these subjects.',\n",
       " 'Star the repo! Share it with friends if you find it useful ❣️\\nCreate a PR if you see you can improve the text or the structure of the repository.']"
      ]
     },
     "execution_count": 18,
     "metadata": {},
     "output_type": "execute_result"
    }
   ],
   "source": [
    "text_documents"
   ]
  },
  {
   "cell_type": "code",
   "execution_count": 19,
   "id": "f627a025-bddf-478e-a205-8374a9d5c7fe",
   "metadata": {},
   "outputs": [],
   "source": [
    "document_embeddings = list(model_handle.embed(text_documents))"
   ]
  },
  {
   "cell_type": "code",
   "execution_count": 20,
   "id": "ffd9005a-16cb-4c56-96f0-d5ad699f13ac",
   "metadata": {},
   "outputs": [],
   "source": [
    "query_embedding = list(model_handle.embed([query]))[0]"
   ]
  },
  {
   "cell_type": "code",
   "execution_count": 21,
   "id": "2a6b5f7c-fa62-4ad0-9785-5277b86026de",
   "metadata": {},
   "outputs": [
    {
     "data": {
      "text/plain": [
       "(5, 512)"
      ]
     },
     "execution_count": 21,
     "metadata": {},
     "output_type": "execute_result"
    }
   ],
   "source": [
    "V = np.stack(document_embeddings)\n",
    "V.shape"
   ]
  },
  {
   "cell_type": "code",
   "execution_count": 22,
   "id": "3fbd6874-70c0-495f-b645-f1750b812e8f",
   "metadata": {},
   "outputs": [],
   "source": [
    "# Normalize the vectors for cosine similarity\n",
    "# Cosine similarity = dot product of normalized vectors\n",
    "V_normalized = V / np.linalg.norm(V, axis=1, keepdims=True)\n",
    "q_normalized = query_embedding / np.linalg.norm(query_embedding)"
   ]
  },
  {
   "cell_type": "code",
   "execution_count": 23,
   "id": "8b381202-59bb-41a1-a3de-c92a92ad2087",
   "metadata": {},
   "outputs": [
    {
     "name": "stdout",
     "output_type": "stream",
     "text": [
      "Document 0: 0.7630\n",
      "Document 1: 0.8182\n",
      "Document 2: 0.8085\n",
      "Document 3: 0.7133\n",
      "Document 4: 0.7304\n"
     ]
    }
   ],
   "source": [
    "cosine_similarities = V_normalized.dot(q_normalized)\n",
    "\n",
    "for i, similarity in enumerate(cosine_similarities):\n",
    "    print(f\"Document {i}: {similarity:.4f}\")"
   ]
  },
  {
   "cell_type": "code",
   "execution_count": 24,
   "id": "f5086960-2081-40dc-b662-a563fb5996ea",
   "metadata": {},
   "outputs": [
    {
     "name": "stdout",
     "output_type": "stream",
     "text": [
      "index: 1, max_similarity: 0.8182378150042889\n"
     ]
    }
   ],
   "source": [
    "# Find the index with highest similarity\n",
    "max_index = np.argmax(cosine_similarities)\n",
    "max_similarity = cosine_similarities[max_index]\n",
    "print(f\"index: {max_index}, max_similarity: {max_similarity}\")"
   ]
  },
  {
   "cell_type": "markdown",
   "id": "139fd714-d886-45d5-8f86-7eb9522a54ef",
   "metadata": {},
   "source": [
    "## Q4. Ranking by cosine, version two\n",
    "\n",
    "Now let's calculate a new field, which is a concatenation of\n",
    "`question` and `text`:\n",
    "\n",
    "```python\n",
    "full_text = doc['question'] + ' ' + doc['text']\n",
    "``` \n",
    "\n",
    "Embed this field and compute the cosine between it and the\n",
    "query vector. What's the highest scoring document?\n",
    "\n",
    "- 0\n",
    "- 1\n",
    "- 2\n",
    "- 3\n",
    "- 4\n",
    "\n",
    "Is it different from Q3? If yes, why?\n",
    "\n",
    "**Answer: `0`**\n",
    "\n",
    "- Reason:\n",
    "    - The question field often contains the main topic/keywords\n",
    "    - Concatenating question + text gives more semantic context\n",
    "    - Better keyword matching between query and question fields\n",
    "    - The embedding model can capture the semantic relationship more effectively"
   ]
  },
  {
   "cell_type": "code",
   "execution_count": 25,
   "id": "3171b68a-3a78-4143-ba34-20a96d31c70b",
   "metadata": {},
   "outputs": [],
   "source": [
    "full_text_documents = []\n",
    "for i, doc in enumerate(documents):\n",
    "    full_text = doc['question'] + ' ' + doc['text']\n",
    "    full_text_documents.append(full_text)"
   ]
  },
  {
   "cell_type": "code",
   "execution_count": 26,
   "id": "d3d4d64c-310d-405b-9ff0-0e1dcbcc9da1",
   "metadata": {},
   "outputs": [
    {
     "data": {
      "text/plain": [
       "5"
      ]
     },
     "execution_count": 26,
     "metadata": {},
     "output_type": "execute_result"
    }
   ],
   "source": [
    "len(full_text_documents)"
   ]
  },
  {
   "cell_type": "code",
   "execution_count": 27,
   "id": "793eb0f2-832e-43c9-bd74-f4d86d81af57",
   "metadata": {},
   "outputs": [],
   "source": [
    "full_text_embeddings = list(model_handle.embed(full_text_documents))"
   ]
  },
  {
   "cell_type": "code",
   "execution_count": 28,
   "id": "5296741a-00b3-41a5-b567-23d77e7a39f6",
   "metadata": {},
   "outputs": [],
   "source": [
    "query_embedding = list(model_handle.embed([query]))[0]"
   ]
  },
  {
   "cell_type": "code",
   "execution_count": 29,
   "id": "ce63d89d-2bd5-411b-8db0-610530ad283b",
   "metadata": {},
   "outputs": [
    {
     "data": {
      "text/plain": [
       "(5, 512)"
      ]
     },
     "execution_count": 29,
     "metadata": {},
     "output_type": "execute_result"
    }
   ],
   "source": [
    "# Stack full_text embeddings into a matrix V\n",
    "V = np.stack(full_text_embeddings)\n",
    "V.shape"
   ]
  },
  {
   "cell_type": "code",
   "execution_count": 30,
   "id": "5001bb61-ce0d-4a7a-8e04-61d3e810f761",
   "metadata": {},
   "outputs": [],
   "source": [
    "# Normalize the vectors for cosine similarity\n",
    "V_normalized = V / np.linalg.norm(V, axis=1, keepdims=True)\n",
    "q_normalized = query_embedding / np.linalg.norm(query_embedding)"
   ]
  },
  {
   "cell_type": "code",
   "execution_count": 31,
   "id": "f45088b7-c402-4871-aac7-f001f9078063",
   "metadata": {},
   "outputs": [],
   "source": [
    "# Using matrix multiplication (the hint)\n",
    "cosine_similarities = V_normalized.dot(q_normalized)"
   ]
  },
  {
   "cell_type": "code",
   "execution_count": 32,
   "id": "6e43d9f4-4b88-42a1-8bab-d0aa8cdfc43d",
   "metadata": {},
   "outputs": [
    {
     "name": "stdout",
     "output_type": "stream",
     "text": [
      "Document 0: 0.8515\n",
      "Document 1: 0.8437\n",
      "Document 2: 0.8408\n",
      "Document 3: 0.7755\n",
      "Document 4: 0.8086\n"
     ]
    }
   ],
   "source": [
    "for i, similarity in enumerate(cosine_similarities):\n",
    "    print(f\"Document {i}: {similarity:.4f}\")"
   ]
  },
  {
   "cell_type": "code",
   "execution_count": 33,
   "id": "432560de-427b-41c3-95e8-cfcdede93519",
   "metadata": {},
   "outputs": [
    {
     "name": "stdout",
     "output_type": "stream",
     "text": [
      "index: 0, max_similarity: 0.8514543236908068\n"
     ]
    }
   ],
   "source": [
    "# Find the index with highest similarity\n",
    "max_index = np.argmax(cosine_similarities)\n",
    "max_similarity = cosine_similarities[max_index]\n",
    "print(f\"index: {max_index}, max_similarity: {max_similarity}\")"
   ]
  },
  {
   "cell_type": "markdown",
   "id": "7dff3225-ce68-41d2-8220-5d0f8d1ca664",
   "metadata": {},
   "source": [
    "## Q5. Selecting the embedding model\n",
    "\n",
    "Now let's select a smaller embedding model.\n",
    "What's the smallest dimensionality for models in fastembed?\n",
    "\n",
    "- 128\n",
    "- 256\n",
    "- 384\n",
    "- 512\n",
    "\n",
    "One of these models is `BAAI/bge-small-en`. Let's use it.\n",
    "\n",
    "**Answer:`384`**"
   ]
  },
  {
   "cell_type": "code",
   "execution_count": 34,
   "id": "f78ae77f-f33c-4d6d-a71e-95cd2410d24e",
   "metadata": {},
   "outputs": [],
   "source": [
    "import json"
   ]
  },
  {
   "cell_type": "code",
   "execution_count": 35,
   "id": "b34be976-7fe9-4b60-89e5-2b3def28d872",
   "metadata": {},
   "outputs": [],
   "source": [
    "# First, let's see all unique dimensions available\n",
    "dimensions = set()\n",
    "for model in TextEmbedding.list_supported_models():\n",
    "    dimensions.add(model[\"dim\"])"
   ]
  },
  {
   "cell_type": "code",
   "execution_count": 36,
   "id": "73be2b75-051d-4da9-b706-fc87d6d97983",
   "metadata": {},
   "outputs": [
    {
     "data": {
      "text/plain": [
       "[384, 512, 768, 1024]"
      ]
     },
     "execution_count": 36,
     "metadata": {},
     "output_type": "execute_result"
    }
   ],
   "source": [
    "sorted(dimensions)"
   ]
  },
  {
   "cell_type": "code",
   "execution_count": 37,
   "id": "a94c4846-dbd4-491e-9398-5d02fa253d45",
   "metadata": {},
   "outputs": [
    {
     "data": {
      "text/plain": [
       "384"
      ]
     },
     "execution_count": 37,
     "metadata": {},
     "output_type": "execute_result"
    }
   ],
   "source": [
    "min(dimensions)"
   ]
  },
  {
   "cell_type": "code",
   "execution_count": 38,
   "id": "cf420283-62b5-4efb-9122-468a30602781",
   "metadata": {},
   "outputs": [],
   "source": [
    "SMALLEST_DIMENSIONALITY = min(dimensions)"
   ]
  },
  {
   "cell_type": "code",
   "execution_count": 39,
   "id": "2530706d-be4b-42ef-972e-0cf91ffa336c",
   "metadata": {},
   "outputs": [
    {
     "name": "stdout",
     "output_type": "stream",
     "text": [
      "{\n",
      "  \"model\": \"BAAI/bge-small-en\",\n",
      "  \"sources\": {\n",
      "    \"hf\": \"Qdrant/bge-small-en\",\n",
      "    \"url\": \"https://storage.googleapis.com/qdrant-fastembed/BAAI-bge-small-en.tar.gz\",\n",
      "    \"_deprecated_tar_struct\": true\n",
      "  },\n",
      "  \"model_file\": \"model_optimized.onnx\",\n",
      "  \"description\": \"Text embeddings, Unimodal (text), English, 512 input tokens truncation, Prefixes for queries/documents: necessary, 2023 year.\",\n",
      "  \"license\": \"mit\",\n",
      "  \"size_in_GB\": 0.13,\n",
      "  \"additional_files\": [],\n",
      "  \"dim\": 384,\n",
      "  \"tasks\": {}\n",
      "}\n",
      "{\n",
      "  \"model\": \"BAAI/bge-small-en-v1.5\",\n",
      "  \"sources\": {\n",
      "    \"hf\": \"qdrant/bge-small-en-v1.5-onnx-q\",\n",
      "    \"url\": null,\n",
      "    \"_deprecated_tar_struct\": false\n",
      "  },\n",
      "  \"model_file\": \"model_optimized.onnx\",\n",
      "  \"description\": \"Text embeddings, Unimodal (text), English, 512 input tokens truncation, Prefixes for queries/documents: not so necessary, 2023 year.\",\n",
      "  \"license\": \"mit\",\n",
      "  \"size_in_GB\": 0.067,\n",
      "  \"additional_files\": [],\n",
      "  \"dim\": 384,\n",
      "  \"tasks\": {}\n",
      "}\n",
      "{\n",
      "  \"model\": \"snowflake/snowflake-arctic-embed-xs\",\n",
      "  \"sources\": {\n",
      "    \"hf\": \"snowflake/snowflake-arctic-embed-xs\",\n",
      "    \"url\": null,\n",
      "    \"_deprecated_tar_struct\": false\n",
      "  },\n",
      "  \"model_file\": \"onnx/model.onnx\",\n",
      "  \"description\": \"Text embeddings, Unimodal (text), English, 512 input tokens truncation, Prefixes for queries/documents: necessary, 2024 year.\",\n",
      "  \"license\": \"apache-2.0\",\n",
      "  \"size_in_GB\": 0.09,\n",
      "  \"additional_files\": [],\n",
      "  \"dim\": 384,\n",
      "  \"tasks\": {}\n",
      "}\n",
      "{\n",
      "  \"model\": \"snowflake/snowflake-arctic-embed-s\",\n",
      "  \"sources\": {\n",
      "    \"hf\": \"snowflake/snowflake-arctic-embed-s\",\n",
      "    \"url\": null,\n",
      "    \"_deprecated_tar_struct\": false\n",
      "  },\n",
      "  \"model_file\": \"onnx/model.onnx\",\n",
      "  \"description\": \"Text embeddings, Unimodal (text), English, 512 input tokens truncation, Prefixes for queries/documents: necessary, 2024 year.\",\n",
      "  \"license\": \"apache-2.0\",\n",
      "  \"size_in_GB\": 0.13,\n",
      "  \"additional_files\": [],\n",
      "  \"dim\": 384,\n",
      "  \"tasks\": {}\n",
      "}\n",
      "{\n",
      "  \"model\": \"sentence-transformers/all-MiniLM-L6-v2\",\n",
      "  \"sources\": {\n",
      "    \"hf\": \"qdrant/all-MiniLM-L6-v2-onnx\",\n",
      "    \"url\": \"https://storage.googleapis.com/qdrant-fastembed/sentence-transformers-all-MiniLM-L6-v2.tar.gz\",\n",
      "    \"_deprecated_tar_struct\": true\n",
      "  },\n",
      "  \"model_file\": \"model.onnx\",\n",
      "  \"description\": \"Text embeddings, Unimodal (text), English, 256 input tokens truncation, Prefixes for queries/documents: not necessary, 2021 year.\",\n",
      "  \"license\": \"apache-2.0\",\n",
      "  \"size_in_GB\": 0.09,\n",
      "  \"additional_files\": [],\n",
      "  \"dim\": 384,\n",
      "  \"tasks\": {}\n",
      "}\n",
      "{\n",
      "  \"model\": \"sentence-transformers/paraphrase-multilingual-MiniLM-L12-v2\",\n",
      "  \"sources\": {\n",
      "    \"hf\": \"qdrant/paraphrase-multilingual-MiniLM-L12-v2-onnx-Q\",\n",
      "    \"url\": null,\n",
      "    \"_deprecated_tar_struct\": false\n",
      "  },\n",
      "  \"model_file\": \"model_optimized.onnx\",\n",
      "  \"description\": \"Text embeddings, Unimodal (text), Multilingual (~50 languages), 512 input tokens truncation, Prefixes for queries/documents: not necessary, 2019 year.\",\n",
      "  \"license\": \"apache-2.0\",\n",
      "  \"size_in_GB\": 0.22,\n",
      "  \"additional_files\": [],\n",
      "  \"dim\": 384,\n",
      "  \"tasks\": {}\n",
      "}\n"
     ]
    }
   ],
   "source": [
    "for model in TextEmbedding.list_supported_models():\n",
    "    if model[\"dim\"] == SMALLEST_DIMENSIONALITY:\n",
    "        print(json.dumps(model, indent=2))"
   ]
  },
  {
   "cell_type": "code",
   "execution_count": 40,
   "id": "82a323b5-2def-4d2d-82c6-6c731e3c20ca",
   "metadata": {},
   "outputs": [
    {
     "name": "stdout",
     "output_type": "stream",
     "text": [
      "{\n",
      "  \"model\": \"BAAI/bge-small-en\",\n",
      "  \"sources\": {\n",
      "    \"hf\": \"Qdrant/bge-small-en\",\n",
      "    \"url\": \"https://storage.googleapis.com/qdrant-fastembed/BAAI-bge-small-en.tar.gz\",\n",
      "    \"_deprecated_tar_struct\": true\n",
      "  },\n",
      "  \"model_file\": \"model_optimized.onnx\",\n",
      "  \"description\": \"Text embeddings, Unimodal (text), English, 512 input tokens truncation, Prefixes for queries/documents: necessary, 2023 year.\",\n",
      "  \"license\": \"mit\",\n",
      "  \"size_in_GB\": 0.13,\n",
      "  \"additional_files\": [],\n",
      "  \"dim\": 384,\n",
      "  \"tasks\": {}\n",
      "}\n",
      "{\n",
      "  \"model\": \"BAAI/bge-small-en-v1.5\",\n",
      "  \"sources\": {\n",
      "    \"hf\": \"qdrant/bge-small-en-v1.5-onnx-q\",\n",
      "    \"url\": null,\n",
      "    \"_deprecated_tar_struct\": false\n",
      "  },\n",
      "  \"model_file\": \"model_optimized.onnx\",\n",
      "  \"description\": \"Text embeddings, Unimodal (text), English, 512 input tokens truncation, Prefixes for queries/documents: not so necessary, 2023 year.\",\n",
      "  \"license\": \"mit\",\n",
      "  \"size_in_GB\": 0.067,\n",
      "  \"additional_files\": [],\n",
      "  \"dim\": 384,\n",
      "  \"tasks\": {}\n",
      "}\n"
     ]
    }
   ],
   "source": [
    "for model in TextEmbedding.list_supported_models():\n",
    "    if \"bge-small-en\" in model[\"model\"]:\n",
    "        print(json.dumps(model, indent=2))"
   ]
  },
  {
   "cell_type": "markdown",
   "id": "50a3469b-e74c-449b-928a-bd25e507c203",
   "metadata": {},
   "source": [
    "## Q6. Indexing with qdrant (2 points)\n",
    "\n",
    "For the last question, we will use more documents.\n",
    "\n",
    "We will select only FAQ records from our ml zoomcamp:\n",
    "\n",
    "```python\n",
    "import requests \n",
    "\n",
    "docs_url = 'https://github.com/alexeygrigorev/llm-rag-workshop/raw/main/notebooks/documents.json'\n",
    "docs_response = requests.get(docs_url)\n",
    "documents_raw = docs_response.json()\n",
    "\n",
    "\n",
    "documents = []\n",
    "\n",
    "for course in documents_raw:\n",
    "    course_name = course['course']\n",
    "    if course_name != 'machine-learning-zoomcamp':\n",
    "        continue\n",
    "\n",
    "    for doc in course['documents']:\n",
    "        doc['course'] = course_name\n",
    "        documents.append(doc)\n",
    "```\n",
    "\n",
    "Add them to qdrant using the model form Q5.\n",
    "\n",
    "When adding the data, use both question and answer fields:\n",
    "\n",
    "```python\n",
    "text = doc['question'] + ' ' + doc['text']\n",
    "```\n",
    "\n",
    "After the data is inserted, use the question from Q1 for querying the collection.\n",
    "\n",
    "What's the highest score in the results?\n",
    "(The score for the first returned record):\n",
    "\n",
    "- 0.97\n",
    "- 0.87\n",
    "- 0.77\n",
    "- 0.67\n",
    "\n",
    "**Answer: `0.87`**"
   ]
  },
  {
   "cell_type": "code",
   "execution_count": 41,
   "id": "8e493a24-467e-44e1-9bf9-68b86c4b8826",
   "metadata": {},
   "outputs": [],
   "source": [
    "import json\n",
    "import requests\n",
    "import numpy as np\n",
    "from fastembed import TextEmbedding\n",
    "from qdrant_client import QdrantClient\n",
    "from qdrant_client.models import Distance, VectorParams, PointStruct"
   ]
  },
  {
   "cell_type": "code",
   "execution_count": 42,
   "id": "a43ab7ee-22b0-46cc-b86c-065d05d59fb9",
   "metadata": {},
   "outputs": [],
   "source": [
    "# Download documents\n",
    "docs_url = 'https://github.com/alexeygrigorev/llm-rag-workshop/raw/main/notebooks/documents.json'\n",
    "docs_response = requests.get(docs_url)\n",
    "documents_raw = docs_response.json()"
   ]
  },
  {
   "cell_type": "code",
   "execution_count": 43,
   "id": "3c64f2f3-bd2d-46fb-b413-53a8ab9aa0ca",
   "metadata": {},
   "outputs": [],
   "source": [
    "# Filter for ML Zoomcamp only\n",
    "documents = []\n",
    "\n",
    "for course in documents_raw:\n",
    "    course_name = course['course']\n",
    "    if course_name != 'machine-learning-zoomcamp':\n",
    "        continue\n",
    "\n",
    "    for doc in course['documents']:\n",
    "        doc['course'] = course_name\n",
    "        documents.append(doc)"
   ]
  },
  {
   "cell_type": "code",
   "execution_count": 44,
   "id": "155edc1c-dbb9-4182-9aa4-836913c82379",
   "metadata": {},
   "outputs": [
    {
     "data": {
      "text/plain": [
       "375"
      ]
     },
     "execution_count": 44,
     "metadata": {},
     "output_type": "execute_result"
    }
   ],
   "source": [
    "len(documents)"
   ]
  },
  {
   "cell_type": "code",
   "execution_count": 45,
   "id": "0ec71790-9599-4858-b7e8-a45c6be6ad00",
   "metadata": {},
   "outputs": [
    {
     "data": {
      "text/plain": [
       "384"
      ]
     },
     "execution_count": 45,
     "metadata": {},
     "output_type": "execute_result"
    }
   ],
   "source": [
    "# Use the model from Q5 - let's first find the smallest dimension model\n",
    "available_dims = set()\n",
    "for model in TextEmbedding.list_supported_models():\n",
    "    available_dims.add(model[\"dim\"])\n",
    "\n",
    "smallest_dim = min(available_dims)\n",
    "smallest_dim"
   ]
  },
  {
   "cell_type": "code",
   "execution_count": 46,
   "id": "ff0d9061-87d8-4f2b-94bd-32dc20e1f72f",
   "metadata": {},
   "outputs": [
    {
     "data": {
      "text/plain": [
       "['BAAI/bge-small-en',\n",
       " 'BAAI/bge-small-en-v1.5',\n",
       " 'snowflake/snowflake-arctic-embed-xs',\n",
       " 'snowflake/snowflake-arctic-embed-s',\n",
       " 'sentence-transformers/all-MiniLM-L6-v2',\n",
       " 'sentence-transformers/paraphrase-multilingual-MiniLM-L12-v2']"
      ]
     },
     "execution_count": 46,
     "metadata": {},
     "output_type": "execute_result"
    }
   ],
   "source": [
    "# Find a model with smallest dimension\n",
    "smallest_models = []\n",
    "for model in TextEmbedding.list_supported_models():\n",
    "    if model[\"dim\"] == smallest_dim:\n",
    "        smallest_models.append(model[\"model\"])\n",
    "\n",
    "smallest_models"
   ]
  },
  {
   "cell_type": "code",
   "execution_count": 47,
   "id": "4deaf983-f96a-4182-95a8-1d83ffa7e99c",
   "metadata": {},
   "outputs": [],
   "source": [
    "embedding_model = TextEmbedding(\"BAAI/bge-small-en\")\n",
    "model_name = \"BAAI/bge-small-en\""
   ]
  },
  {
   "cell_type": "code",
   "execution_count": 48,
   "id": "f32d6699-5ebb-4ffb-9f34-00b7b7c43f76",
   "metadata": {},
   "outputs": [],
   "source": [
    "# Create combined text (question + answer)\n",
    "texts_to_embed = []\n",
    "for doc in documents:\n",
    "    text = doc['question'] + ' ' + doc['text']\n",
    "    texts_to_embed.append(text)"
   ]
  },
  {
   "cell_type": "code",
   "execution_count": 49,
   "id": "648b558d-f1c8-470d-afdb-840be02cf229",
   "metadata": {},
   "outputs": [
    {
     "data": {
      "text/plain": [
       "'How do I sign up? Machine Learning Zoomcamp FAQ\\nThe purpose of this document is to capture frequently asked technical questions.\\nWe did this for our data engineering course and it worked quite well. Check this document for inspiration on how to structure your questions and answers:\\nData Engineering Zoomcamp FAQ\\nIn the course GitHub repository there’s a link. Here it is: https://airtable.com/shryxwLd0COOEaqXo\\nwork'"
      ]
     },
     "execution_count": 49,
     "metadata": {},
     "output_type": "execute_result"
    }
   ],
   "source": [
    "texts_to_embed[0]"
   ]
  },
  {
   "cell_type": "code",
   "execution_count": 50,
   "id": "74c69c6e-4cad-4d4c-b1c9-233e1fe259a6",
   "metadata": {},
   "outputs": [],
   "source": [
    "# generate embeddings\n",
    "embeddings = list(embedding_model.embed(texts_to_embed))"
   ]
  },
  {
   "cell_type": "code",
   "execution_count": 51,
   "id": "3e4f81cc-6cc5-47fa-875b-13c77a67d1db",
   "metadata": {},
   "outputs": [],
   "source": [
    "client = QdrantClient(\"http://localhost:6333\") #connecting to local Qdrant instance"
   ]
  },
  {
   "cell_type": "code",
   "execution_count": 52,
   "id": "df283e24-8541-4a7a-b95f-0648226cf81b",
   "metadata": {},
   "outputs": [],
   "source": [
    "collection_name = \"ml_zoomcamp_faq\""
   ]
  },
  {
   "cell_type": "code",
   "execution_count": 54,
   "id": "4f6ed349-f56c-496b-8319-0767a8b519b0",
   "metadata": {},
   "outputs": [
    {
     "data": {
      "text/plain": [
       "True"
      ]
     },
     "execution_count": 54,
     "metadata": {},
     "output_type": "execute_result"
    }
   ],
   "source": [
    "client.delete_collection(collection_name=collection_name)"
   ]
  },
  {
   "cell_type": "code",
   "execution_count": 55,
   "id": "802a848b-c540-4fe9-a83c-aca9fd6d7d8b",
   "metadata": {},
   "outputs": [
    {
     "data": {
      "text/plain": [
       "True"
      ]
     },
     "execution_count": 55,
     "metadata": {},
     "output_type": "execute_result"
    }
   ],
   "source": [
    "# Create collection\n",
    "client.create_collection(\n",
    "    collection_name=collection_name,\n",
    "    vectors_config=VectorParams(size=smallest_dim, distance=Distance.COSINE),\n",
    ")"
   ]
  },
  {
   "cell_type": "code",
   "execution_count": 56,
   "id": "8d14546f-32bf-4c03-96d6-b11174a1763b",
   "metadata": {},
   "outputs": [],
   "source": [
    "# Prepare points for insertion\n",
    "points = []\n",
    "for i, (doc, embedding) in enumerate(zip(documents, embeddings)):\n",
    "    point = PointStruct(\n",
    "        id=i,\n",
    "        vector=embedding.tolist(),\n",
    "        payload={\n",
    "            \"question\": doc[\"question\"],\n",
    "            \"text\": doc[\"text\"],\n",
    "            \"section\": doc[\"section\"],\n",
    "            \"course\": doc[\"course\"],\n",
    "            \"combined_text\": doc['question'] + ' ' + doc['text']\n",
    "        }\n",
    "    )\n",
    "    points.append(point)"
   ]
  },
  {
   "cell_type": "code",
   "execution_count": 57,
   "id": "8c02344d-3e67-4b86-aa9d-419b78384e33",
   "metadata": {},
   "outputs": [],
   "source": [
    "# Insert points in batches\n",
    "batch_size = 100\n",
    "for i in range(0, len(points), batch_size):\n",
    "    batch = points[i:i+batch_size]\n",
    "    client.upsert(\n",
    "        collection_name=collection_name,\n",
    "        points=batch\n",
    "    )"
   ]
  },
  {
   "cell_type": "code",
   "execution_count": 58,
   "id": "bb3f0ee5-b748-4d1b-b519-5c2ae73b2077",
   "metadata": {},
   "outputs": [],
   "source": [
    "# Query from Q1\n",
    "query = \"I just discovered the course. Can I join now?\""
   ]
  },
  {
   "cell_type": "code",
   "execution_count": 59,
   "id": "026cbca8-5de1-42c2-b804-27b9388096b4",
   "metadata": {},
   "outputs": [],
   "source": [
    "# Generate query embedding\n",
    "query_embedding = list(embedding_model.embed([query]))[0]"
   ]
  },
  {
   "cell_type": "code",
   "execution_count": 60,
   "id": "14438e29-529e-4c12-8546-29d7e769b4ce",
   "metadata": {},
   "outputs": [],
   "source": [
    "# Search in Qdrant\n",
    "search_results = client.query_points(\n",
    "    collection_name=collection_name,\n",
    "    query=query_embedding.tolist(),\n",
    "    limit=5  # Get top 5 results\n",
    ")"
   ]
  },
  {
   "cell_type": "code",
   "execution_count": 61,
   "id": "73c43c0d-b2d9-47ed-a2d1-8a89d90ab716",
   "metadata": {},
   "outputs": [
    {
     "data": {
      "text/plain": [
       "QueryResponse(points=[ScoredPoint(id=14, version=0, score=0.8703172, payload={'question': 'The course has already started. Can I still join it?', 'text': 'Yes, you can. You won’t be able to submit some of the homeworks, but you can still take part in the course.\\nIn order to get a certificate, you need to submit 2 out of 3 course projects and review 3 peers’ Projects by the deadline. It means that if you join the course at the end of November and manage to work on two projects, you will still be eligible for a certificate.', 'section': 'General course-related questions', 'course': 'machine-learning-zoomcamp', 'combined_text': 'The course has already started. Can I still join it? Yes, you can. You won’t be able to submit some of the homeworks, but you can still take part in the course.\\nIn order to get a certificate, you need to submit 2 out of 3 course projects and review 3 peers’ Projects by the deadline. It means that if you join the course at the end of November and manage to work on two projects, you will still be eligible for a certificate.'}, vector=None, shard_key=None, order_value=None), ScoredPoint(id=6, version=0, score=0.86918855, payload={'question': 'How long is the course?', 'text': 'Approximately 4 months, but may take more if you want to do some extra activities (an extra project, an article, etc)', 'section': 'General course-related questions', 'course': 'machine-learning-zoomcamp', 'combined_text': 'How long is the course? Approximately 4 months, but may take more if you want to do some extra activities (an extra project, an article, etc)'}, vector=None, shard_key=None, order_value=None), ScoredPoint(id=13, version=0, score=0.86833113, payload={'question': 'I’m new to Slack and can’t find the course channel. Where is it?', 'text': \"Here’s how you join a in Slack: https://slack.com/help/articles/205239967-Join-a-channel\\nClick “All channels” at the top of your left sidebar. If you don't see this option, click “More” to find it.\\nBrowse the list of public channels in your workspace, or use the search bar to search by channel name or description.\\nSelect a channel from the list to view it.\\nClick Join Channel.\\nDo we need to provide the GitHub link to only our code corresponding to the homework questions?\\nYes. You are required to provide the URL to your repo in order to receive a grade\", 'section': 'General course-related questions', 'course': 'machine-learning-zoomcamp', 'combined_text': \"I’m new to Slack and can’t find the course channel. Where is it? Here’s how you join a in Slack: https://slack.com/help/articles/205239967-Join-a-channel\\nClick “All channels” at the top of your left sidebar. If you don't see this option, click “More” to find it.\\nBrowse the list of public channels in your workspace, or use the search bar to search by channel name or description.\\nSelect a channel from the list to view it.\\nClick Join Channel.\\nDo we need to provide the GitHub link to only our code corresponding to the homework questions?\\nYes. You are required to provide the URL to your repo in order to receive a grade\"}, vector=None, shard_key=None, order_value=None), ScoredPoint(id=293, version=2, score=0.8576106, payload={'question': 'How to get started with Week 10?', 'text': 'TODO', 'section': '10. Kubernetes and TensorFlow Serving', 'course': 'machine-learning-zoomcamp', 'combined_text': 'How to get started with Week 10? TODO'}, vector=None, shard_key=None, order_value=None), ScoredPoint(id=17, version=0, score=0.85715395, payload={'question': 'I just joined. What should I do next? How can I access course materials?', 'text': 'Welcome to the course! Go to the course page (http://mlzoomcamp.com/), scroll down and start going through the course materials. Then read everything in the cohort folder for your cohort’s year.\\nClick on the links and start watching the videos. Also watch office hours from previous cohorts. Go to DTC youtube channel and click on Playlists and search for {course yyyy}. ML Zoomcamp was first launched in 2021.\\nOr you can just use this link: http://mlzoomcamp.com/#syllabus', 'section': 'General course-related questions', 'course': 'machine-learning-zoomcamp', 'combined_text': 'I just joined. What should I do next? How can I access course materials? Welcome to the course! Go to the course page (http://mlzoomcamp.com/), scroll down and start going through the course materials. Then read everything in the cohort folder for your cohort’s year.\\nClick on the links and start watching the videos. Also watch office hours from previous cohorts. Go to DTC youtube channel and click on Playlists and search for {course yyyy}. ML Zoomcamp was first launched in 2021.\\nOr you can just use this link: http://mlzoomcamp.com/#syllabus'}, vector=None, shard_key=None, order_value=None)])"
      ]
     },
     "execution_count": 61,
     "metadata": {},
     "output_type": "execute_result"
    }
   ],
   "source": [
    "search_results"
   ]
  },
  {
   "cell_type": "code",
   "execution_count": 63,
   "id": "d67c1c83-a38d-47da-88f5-659dd237455e",
   "metadata": {},
   "outputs": [
    {
     "name": "stdout",
     "output_type": "stream",
     "text": [
      "Top 5 search results:\n",
      "\n",
      "1. Score: 0.8703\n",
      "   Question: The course has already started. Can I still join it?\n",
      "   Text: Yes, you can. You won’t be able to submit some of the homeworks, but you can still take part in the course.\n",
      "In order to get a certificate, you need to...\n",
      "   Section: General course-related questions\n",
      "\n",
      "2. Score: 0.8692\n",
      "   Question: How long is the course?\n",
      "   Text: Approximately 4 months, but may take more if you want to do some extra activities (an extra project, an article, etc)...\n",
      "   Section: General course-related questions\n",
      "\n",
      "3. Score: 0.8683\n",
      "   Question: I’m new to Slack and can’t find the course channel. Where is it?\n",
      "   Text: Here’s how you join a in Slack: https://slack.com/help/articles/205239967-Join-a-channel\n",
      "Click “All channels” at the top of your left sidebar. If you ...\n",
      "   Section: General course-related questions\n",
      "\n",
      "4. Score: 0.8576\n",
      "   Question: How to get started with Week 10?\n",
      "   Text: TODO...\n",
      "   Section: 10. Kubernetes and TensorFlow Serving\n",
      "\n",
      "5. Score: 0.8572\n",
      "   Question: I just joined. What should I do next? How can I access course materials?\n",
      "   Text: Welcome to the course! Go to the course page (http://mlzoomcamp.com/), scroll down and start going through the course materials. Then read everything ...\n",
      "   Section: General course-related questions\n"
     ]
    }
   ],
   "source": [
    "print(\"Top 5 search results:\")\n",
    "for i, result in enumerate(search_results.points[:5]):\n",
    "    print(f\"\\n{i+1}. Score: {result.score:.4f}\")\n",
    "    print(f\"   Question: {result.payload['question']}\")\n",
    "    print(f\"   Text: {result.payload['text'][:150]}...\")\n",
    "    print(f\"   Section: {result.payload['section']}\")"
   ]
  },
  {
   "cell_type": "code",
   "execution_count": 64,
   "id": "cf5c89ca-5f26-44a7-9f4d-65711296fcc7",
   "metadata": {},
   "outputs": [
    {
     "name": "stdout",
     "output_type": "stream",
     "text": [
      "Highest score: 0.8703\n"
     ]
    }
   ],
   "source": [
    "# Get the highest score from the list of ScoredPoint objects\n",
    "highest_score = max(point.score for point in search_results.points)\n",
    "print(f\"Highest score: {highest_score:.4f}\")"
   ]
  },
  {
   "cell_type": "code",
   "execution_count": null,
   "id": "90023f28-346a-4bd3-8ca3-e1058c165ad3",
   "metadata": {},
   "outputs": [],
   "source": []
  }
 ],
 "metadata": {
  "kernelspec": {
   "display_name": "Python 3 (ipykernel)",
   "language": "python",
   "name": "python3"
  },
  "language_info": {
   "codemirror_mode": {
    "name": "ipython",
    "version": 3
   },
   "file_extension": ".py",
   "mimetype": "text/x-python",
   "name": "python",
   "nbconvert_exporter": "python",
   "pygments_lexer": "ipython3",
   "version": "3.12.11"
  }
 },
 "nbformat": 4,
 "nbformat_minor": 5
}
